{
 "cells": [
  {
   "cell_type": "markdown",
   "metadata": {},
   "source": [
    "# STOP HOLD VENT - har du trykket make copy? \n",
    "## Python opgaver for begyndere\n",
    "### Her er lidt at gå i gang med for de helt nye til Python\n",
    "#### Sig endelig til hvis I har brug for hjælp! I skal løse opgaverne i rækkefølge.\n",
    "Prøv at indsætte de rigtige værdier og variabler dér hvor de mangler!"
   ]
  },
  {
   "cell_type": "markdown",
   "metadata": {
    "collapsed": true
   },
   "source": [
    "Lav først en liste med alle de ulige tal fra 0 til 10."
   ]
  },
  {
   "cell_type": "code",
   "execution_count": 3,
   "metadata": {},
   "outputs": [
    {
     "name": "stdout",
     "output_type": "stream",
     "text": [
      "[1, 3, 5, 7, 9]\n"
     ]
    }
   ],
   "source": [
    "liste = []\n",
    "for i in range(1, 10, 2):\n",
    "    liste.append(i)\n",
    "print (liste)"
   ]
  },
  {
   "cell_type": "markdown",
   "metadata": {},
   "source": [
    "Find elementet i midten af listen."
   ]
  },
  {
   "cell_type": "code",
   "execution_count": 21,
   "metadata": {},
   "outputs": [
    {
     "name": "stdout",
     "output_type": "stream",
     "text": [
      "5\n"
     ]
    }
   ],
   "source": [
    "midten = liste[len(liste)//2]\n",
    "print(midten)"
   ]
  },
  {
   "cell_type": "markdown",
   "metadata": {},
   "source": [
    "Beregn gennemsnittet af listen.\n",
    "Vink: Der findes indbygge funktioner: sum() og len()"
   ]
  },
  {
   "cell_type": "code",
   "execution_count": 22,
   "metadata": {},
   "outputs": [
    {
     "name": "stdout",
     "output_type": "stream",
     "text": [
      "5.0\n"
     ]
    }
   ],
   "source": [
    "gennemsnit = sum(liste)/len(liste)\n",
    "print(gennemsnit)"
   ]
  },
  {
   "cell_type": "markdown",
   "metadata": {},
   "source": [
    "Skriv til skærmen at det var en success, hvis gennemsnittet af listen er lig med det miderste element."
   ]
  },
  {
   "cell_type": "code",
   "execution_count": 23,
   "metadata": {},
   "outputs": [
    {
     "name": "stdout",
     "output_type": "stream",
     "text": [
      "jaaa\n"
     ]
    }
   ],
   "source": [
    "if (gennemsnit == midten):\n",
    "    print(\"jaaa\")"
   ]
  },
  {
   "cell_type": "markdown",
   "metadata": {
    "collapsed": true
   },
   "source": [
    "Lad os nu prøve noget lidt sværere! Kan du huske, hvordan vi lavede en algoritme, som fandt ud af, om et givent element var i en sorteret liste? Prøv at skrive en funktion i Python der gør det samme - først lineært."
   ]
  },
  {
   "cell_type": "code",
   "execution_count": 28,
   "metadata": {},
   "outputs": [],
   "source": [
    "def sog(element, liste):\n",
    "    for i in range(len(liste)):\n",
    "        if element == liste[i]:\n",
    "            return True\n",
    "    return False"
   ]
  },
  {
   "cell_type": "markdown",
   "metadata": {},
   "source": [
    "Mon den virker? Test den!"
   ]
  },
  {
   "cell_type": "code",
   "execution_count": null,
   "metadata": {},
   "outputs": [],
   "source": [
    "A = [1, 2, 3, 4, 5, 7, 8, 9, 10]\n",
    "x = 5\n",
    "y = 6\n",
    "\n",
    "if sog(x,A):\n",
    "    print(\"Jaa\")\n",
    "else:\n",
    "    print(\"Øv\")\n",
    "\n",
    "if sog(y,A):\n",
    "    print(\"Jaa\")\n",
    "else:\n",
    "    print(\"øv\")"
   ]
  },
  {
   "cell_type": "markdown",
   "metadata": {},
   "source": [
    "Skriv nu den samme søgefunktion, men så den kører med logaritmisk køretid. Altså, hvor vi skærer halvdelen af listen væk ved hver iteration."
   ]
  },
  {
   "cell_type": "code",
   "execution_count": 63,
   "metadata": {},
   "outputs": [],
   "source": [
    "def sog_smart(element, liste):\n",
    "    første = 0\n",
    "    sidste = len(liste)-1    # Tænk på du skal finde det sidste element, længden kan hjælpe med dette\n",
    "    fundet = False\n",
    "    while(første <= sidste and not fundet):        \n",
    "        midt = (første + sidste)//2 # brug // operatoren til at runde ned samtidigt med at du dividerer!\n",
    "        if liste[midt] == element:\n",
    "            fundet = True\n",
    "        elif element < liste[midt]:\n",
    "            sidste = midt - 1\n",
    "        else:\n",
    "            første = midt + 1\n",
    "    return fundet\n",
    "\n",
    "    "
   ]
  },
  {
   "cell_type": "markdown",
   "metadata": {},
   "source": [
    "Test på samme måde som før om din søgefunktion virker!"
   ]
  },
  {
   "cell_type": "code",
   "execution_count": 64,
   "metadata": {},
   "outputs": [
    {
     "name": "stdout",
     "output_type": "stream",
     "text": [
      "Jaa\n",
      "Jaa\n"
     ]
    }
   ],
   "source": [
    "A = [1, 2, 3, 4, 5, 7, 8, 9, 10]\n",
    "x = 4\n",
    "y = 7\n",
    "\n",
    "if sog_smart(x,A):\n",
    "    print(\"Jaa\")\n",
    "else:\n",
    "    print(\"Øv\")\n",
    "\n",
    "if sog_smart(y,A):\n",
    "    print(\"Jaa\")\n",
    "else:\n",
    "    print(\"øv\")"
   ]
  },
  {
   "cell_type": "markdown",
   "metadata": {},
   "source": [
    "# Alright, sejt at du er noget så langt! Hvis du vil kan du hoppe ned i bunden og prøve at lave Sten, saks og papir, ellers er du velkommen til at fortsætte med insertion sort og rekursion!"
   ]
  },
  {
   "cell_type": "markdown",
   "metadata": {},
   "source": [
    "Prøv at skrive koden for insertion sort - altså den sorteringsmetode vi f.eks. bruger, når vi sorterer en hånd af spillekort. Spørg hvis du er i tvivl."
   ]
  },
  {
   "cell_type": "code",
   "execution_count": null,
   "metadata": {
    "collapsed": true
   },
   "outputs": [],
   "source": [
    "def insertion_sort(liste):\n",
    "    for r in range(_start, _slut):\n",
    "        for j in range(_start, _slut, _skridt):\n",
    "            if _aktuelt_element > _forrige_element:\n",
    "                break\n",
    "            liste[j - 1], liste[j] = liste[j], liste[j - 1] # ellers bytter vi de to\n",
    "            \n",
    "    return liste"
   ]
  },
  {
   "cell_type": "markdown",
   "metadata": {},
   "source": [
    "Check at din sorteringsfunktion virker! Skriv selv koden - genbrug evt. fra tidligere tests."
   ]
  },
  {
   "cell_type": "code",
   "execution_count": null,
   "metadata": {
    "collapsed": true
   },
   "outputs": [],
   "source": []
  },
  {
   "cell_type": "markdown",
   "metadata": {},
   "source": [
    "Lad os lave noget rekursionssjov. Skriv en rekursiv funktion (en funktion der kalder sig selv), der udregner det n'te fibbonachi tal. Hvis du er i tvivl om hvad Fibbonacci-tal er så kig her: https://da.wikipedia.org/wiki/Fibonacci-tal\n",
    "Hvis det er svært, så spørg os!"
   ]
  },
  {
   "cell_type": "code",
   "execution_count": null,
   "metadata": {
    "collapsed": true
   },
   "outputs": [],
   "source": [
    "def fib(n):\n",
    "    # hvis n er 0, så returner 0\n",
    "    # hvis n er 1, så returner 1\n",
    "    # ellers sa returner summen af de to foregående fibbonacci-tal "
   ]
  },
  {
   "cell_type": "markdown",
   "metadata": {},
   "source": [
    "Til sidst vil vi finde summen af cifrene for et udregnet faktorielt tal. Lav først en funktion som udregner et tals fakultet. Se https://en.wikipedia.org/wiki/Factorial hvis du ikke ved, hvad det vil sige.\n",
    "\n",
    "Vi gør det selvfølgelig rekursivt, for det er sejt!"
   ]
  },
  {
   "cell_type": "code",
   "execution_count": null,
   "metadata": {
    "collapsed": true
   },
   "outputs": [],
   "source": [
    "def fakultet(n):\n",
    "    if n == 0:\n",
    "        # returner 1\n",
    "    else:\n",
    "        # returner det reducerede problem"
   ]
  },
  {
   "cell_type": "markdown",
   "metadata": {},
   "source": [
    "# Lad os lave et sten, saks papir spil!"
   ]
  },
  {
   "cell_type": "code",
   "execution_count": 91,
   "metadata": {
    "collapsed": true
   },
   "outputs": [],
   "source": [
    "import random \n",
    "\n",
    "muligheder = {\n",
    "    \"Sten\" : \"Papir\",\n",
    "    \"Saks\" : \"Sten\",\n",
    "    \"Papir\" : \"Saks\"\n",
    "}"
   ]
  },
  {
   "cell_type": "code",
   "execution_count": 98,
   "metadata": {},
   "outputs": [],
   "source": [
    "def stenSaksPapir():\n",
    "    while(1): \n",
    "\n",
    "        valg = (input(\"Skriv dit valg af: \\n Sten \\n Saks \\n Papir \\n\")) \n",
    "        \n",
    "        if valg in muligheder:\n",
    "            comp_valg = random.choice(list(muligheder))\n",
    "            print(\"Computeren valgte: \" + comp_valg + \"\\n\")\n",
    "            \n",
    "            if valg == muligheder[comp_valg]:\n",
    "                print(\"Du vandt!\")            \n",
    "                break\n",
    "            elif valg == comp_valg:\n",
    "                print(\"Det blev uafgjort!\")\n",
    "                break\n",
    "            else:\n",
    "                print(\"Du tabte, desværre!\")\n",
    "                break\n",
    "        else:\n",
    "            print(\"Forkert input, prøv igen\\n\")\n",
    "            "
   ]
  },
  {
   "cell_type": "code",
   "execution_count": 99,
   "metadata": {},
   "outputs": [
    {
     "name": "stdout",
     "output_type": "stream",
     "text": [
      "Skriv dit valg af: \n",
      " Sten \n",
      " Saks \n",
      " Papir \n",
      "hej\n",
      "Forkert input, prøv igen\n",
      "\n",
      "Skriv dit valg af: \n",
      " Sten \n",
      " Saks \n",
      " Papir \n",
      "Saks\n",
      "Computeren valgte: Sten\n",
      "\n",
      "Du tabte, desværre!\n"
     ]
    }
   ],
   "source": [
    "stenSaksPapir() #Kør dette for at starte dit spil"
   ]
  },
  {
   "cell_type": "code",
   "execution_count": null,
   "metadata": {
    "collapsed": true
   },
   "outputs": [],
   "source": []
  }
 ],
 "metadata": {
  "kernelspec": {
   "display_name": "Python 3",
   "language": "python",
   "name": "python3"
  },
  "language_info": {
   "codemirror_mode": {
    "name": "ipython",
    "version": 3
   },
   "file_extension": ".py",
   "mimetype": "text/x-python",
   "name": "python",
   "nbconvert_exporter": "python",
   "pygments_lexer": "ipython3",
   "version": "3.6.1"
  }
 },
 "nbformat": 4,
 "nbformat_minor": 1
}
