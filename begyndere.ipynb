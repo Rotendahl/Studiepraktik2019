{
 "cells": [
  {
   "cell_type": "markdown",
   "metadata": {},
   "source": [
    "# STOP HOLD VENT - har du trykket make copy? \n",
    "## Python opgaver for begyndere\n",
    "### Her er lidt at gå i gang med for de helt nye til Python\n",
    "#### Sig endelig til hvis I har brug for hjælp! I skal løse opgaverne i rækkefølge.\n",
    "Prøv at indsætte de rigtige værdier og variabler dér hvor de mangler!"
   ]
  },
  {
   "cell_type": "markdown",
   "metadata": {
    "collapsed": true
   },
   "source": [
    "Lav først en liste med alle de ulige tal fra 0 til 10."
   ]
  },
  {
   "cell_type": "code",
   "execution_count": null,
   "metadata": {},
   "outputs": [],
   "source": [
    "liste = []\n",
    "for i in range(_start, _slut, _skridt):\n",
    "    liste.append(_tal)\n",
    "print _visListen"
   ]
  },
  {
   "cell_type": "markdown",
   "metadata": {},
   "source": [
    "Find elementet i midten af listen."
   ]
  },
  {
   "cell_type": "code",
   "execution_count": null,
   "metadata": {
    "collapsed": true
   },
   "outputs": [],
   "source": [
    "midten = listeNavn[_position]"
   ]
  },
  {
   "cell_type": "markdown",
   "metadata": {},
   "source": [
    "Beregn gennemsnittet af listen.\n",
    "Vink: Der findes indbygge funktioner: sum() og len()"
   ]
  },
  {
   "cell_type": "code",
   "execution_count": null,
   "metadata": {
    "collapsed": true
   },
   "outputs": [],
   "source": [
    "gennemsnit = _summen / _langden"
   ]
  },
  {
   "cell_type": "markdown",
   "metadata": {},
   "source": [
    "Skriv til skærmen at det var en success, hvis gennemsnittet af listen er lig med det miderste element."
   ]
  },
  {
   "cell_type": "code",
   "execution_count": null,
   "metadata": {},
   "outputs": [],
   "source": [
    "if (_snit == _midt):\n",
    "    print(_besked)"
   ]
  },
  {
   "cell_type": "markdown",
   "metadata": {
    "collapsed": true
   },
   "source": [
    "Lad os nu prøve noget lidt sværere! Kan du huske, hvordan vi lavede en algoritme, som fandt ud af, om et givent element var i en sorteret liste? Prøv at skrive en funktion i Python der gør det samme - først lineært."
   ]
  },
  {
   "cell_type": "code",
   "execution_count": null,
   "metadata": {
    "collapsed": true
   },
   "outputs": [],
   "source": [
    "def sog(element, liste):\n",
    "    for i in range(_len_af_listen):\n",
    "        if _det_vi_leder_efter == _det_den_skal_vaere_lig_med\n",
    "            return True\n",
    "    return False"
   ]
  },
  {
   "cell_type": "markdown",
   "metadata": {},
   "source": [
    "Mon den virker? Test den!"
   ]
  },
  {
   "cell_type": "code",
   "execution_count": null,
   "metadata": {
    "collapsed": true
   },
   "outputs": [],
   "source": [
    "A = [1, 2, 3, 4, 5, 7, 8, 9, 10]\n",
    "x = 5\n",
    "y = 6\n",
    "\n",
    "if (x_er_i_A):\n",
    "    #skriv ups\n",
    "else:\n",
    "    #skriv hurra\n",
    "\n",
    "if (y_er_i_A):\n",
    "    #skriv hurra\n",
    "else:\n",
    "    #skriv ups"
   ]
  },
  {
   "cell_type": "markdown",
   "metadata": {},
   "source": [
    "Skriv nu den samme søgefunktion, men så den kører med logaritmisk køretid. Altså, hvor vi skærer halvdelen af listen væk ved hver iteration."
   ]
  },
  {
   "cell_type": "code",
   "execution_count": null,
   "metadata": {
    "collapsed": true
   },
   "outputs": [],
   "source": [
    "def sog_smart(element, liste):\n",
    "    forste = _første_element_i_listen\n",
    "    sidste = _sidste_element_i_listen       # Tænk på du skal finde det sidste element, længden kan hjælpe med dette\n",
    "    fundet = False                          # Skal ikke ændres, indikere om vi har fundet elementet\n",
    "    while(forste <= sidste and not fundet):        \n",
    "        midt = _midterste_element_i_listen  # Brug // operatoren til at runde ned samtidigt med at du dividerer!\n",
    "        if _element == _midterste_element:\n",
    "            fundet = True                   # Skal ikke ændres, indikere at vi HAR fundet\n",
    "        elif _element < _midterste_element:\n",
    "            sidste = midt - 1               # Elementet var større, så vi kigger i øverste halvdel\n",
    "        else:\n",
    "            forste = midt + 1               # Elementet var mindre, så vi kigger i nederste\n",
    "    return fundet"
   ]
  },
  {
   "cell_type": "markdown",
   "metadata": {},
   "source": [
    "Test på samme måde som før om din søgefunktion virker!"
   ]
  },
  {
   "cell_type": "code",
   "execution_count": null,
   "metadata": {
    "collapsed": true
   },
   "outputs": [],
   "source": [
    "A = [1, 2, 3, 4, 5, 7, 8, 9, 10]\n",
    "x = 5\n",
    "y = 6"
   ]
  },
  {
   "cell_type": "markdown",
   "metadata": {},
   "source": [
    "# Alright, sejt at du er noget så langt! Hvis du vil kan du hoppe ned i bunden og prøve at lave Sten, saks og papir, ellers er du velkommen til at fortsætte med insertion sort og rekursion!"
   ]
  },
  {
   "cell_type": "markdown",
   "metadata": {},
   "source": [
    "Prøv at skrive koden for insertion sort - altså den sorteringsmetode vi f.eks. bruger, når vi sorterer en hånd af spillekort. Spørg hvis du er i tvivl."
   ]
  },
  {
   "cell_type": "code",
   "execution_count": null,
   "metadata": {
    "collapsed": true
   },
   "outputs": [],
   "source": [
    "def insertion_sort(liste):\n",
    "    for r in range(_start, _slut):\n",
    "        for j in range(_start, _slut, _skridt):\n",
    "            if _aktuelt_element > _forrige_element:\n",
    "                break\n",
    "            liste[j - 1], liste[j] = liste[j], liste[j - 1] # ellers bytter vi de to\n",
    "            \n",
    "    return liste"
   ]
  },
  {
   "cell_type": "markdown",
   "metadata": {},
   "source": [
    "Check at din sorteringsfunktion virker! Skriv selv koden - genbrug evt. fra tidligere tests."
   ]
  },
  {
   "cell_type": "code",
   "execution_count": null,
   "metadata": {
    "collapsed": true
   },
   "outputs": [],
   "source": []
  },
  {
   "cell_type": "markdown",
   "metadata": {},
   "source": [
    "Lad os lave noget rekursionssjov. Skriv en rekursiv funktion (en funktion der kalder sig selv), der udregner det n'te fibbonachi tal. Hvis du er i tvivl om hvad Fibbonacci-tal er så kig her: https://da.wikipedia.org/wiki/Fibonacci-tal\n",
    "Hvis det er svært, så spørg os!"
   ]
  },
  {
   "cell_type": "code",
   "execution_count": null,
   "metadata": {
    "collapsed": true
   },
   "outputs": [],
   "source": [
    "def fib(n):\n",
    "    # hvis n er 0, så returner 0\n",
    "    # hvis n er 1, så returner 1\n",
    "    # ellers sa returner summen af de to foregående fibbonacci-tal "
   ]
  },
  {
   "cell_type": "markdown",
   "metadata": {},
   "source": [
    "Til sidst vil vi finde summen af cifrene for et udregnet faktorielt tal. Lav først en funktion som udregner et tals fakultet. Se https://en.wikipedia.org/wiki/Factorial hvis du ikke ved, hvad det vil sige.\n",
    "\n",
    "Vi gør det selvfølgelig rekursivt, for det er sejt!"
   ]
  },
  {
   "cell_type": "code",
   "execution_count": 1,
   "metadata": {},
   "outputs": [
    {
     "ename": "IndentationError",
     "evalue": "expected an indented block (<ipython-input-1-1061033985b6>, line 4)",
     "output_type": "error",
     "traceback": [
      "\u001b[0;36m  File \u001b[0;32m\"<ipython-input-1-1061033985b6>\"\u001b[0;36m, line \u001b[0;32m4\u001b[0m\n\u001b[0;31m    else:\u001b[0m\n\u001b[0m       ^\u001b[0m\n\u001b[0;31mIndentationError\u001b[0m\u001b[0;31m:\u001b[0m expected an indented block\n"
     ]
    }
   ],
   "source": [
    "def fakultet(n):\n",
    "    if n == 0:\n",
    "        # returner 1\n",
    "    else:\n",
    "        # returner det reducerede problem"
   ]
  },
  {
   "cell_type": "markdown",
   "metadata": {},
   "source": [
    "# Lad os lave et sten, saks papir spil!"
   ]
  },
  {
   "cell_type": "code",
   "execution_count": 2,
   "metadata": {
    "collapsed": true
   },
   "outputs": [],
   "source": [
    "import random \n",
    "\n",
    "muligheder = {\n",
    "    \"Sten\" : \"Papir\",\n",
    "    \"Saks\" : \"Sten\",\n",
    "    \"Papir\" : \"Saks\"\n",
    "}"
   ]
  },
  {
   "cell_type": "code",
   "execution_count": 3,
   "metadata": {
    "collapsed": true
   },
   "outputs": [],
   "source": [
    "def stenSaksPapir():\n",
    "    while(1): \n",
    "\n",
    "        valg = (input(\"\"))                                   #Tilføj selv start tekst i dit spil\n",
    "        \n",
    "        if valg in muligheder:\n",
    "            comp_valg = random.choice(list(muligheder))\n",
    "            print(\"Computeren valgte: \" + comp_valg + \"\\n\")\n",
    "            \n",
    "            if valg == muligheder[comp_valg]:                #Hvad sker der hvis dette gælder?\n",
    "\n",
    "                \n",
    "            elif valg == comp_valg:                          #Hvad sker der hvis dette gælder?\n",
    "\n",
    "                \n",
    "            else:                                            #Hvad sker der hvis dette gælder?\n",
    "\n",
    "            \n",
    "        else:\n",
    "            print(\"Forkert input, prøv igen\\n\")"
   ]
  },
  {
   "cell_type": "code",
   "execution_count": null,
   "metadata": {
    "collapsed": true
   },
   "outputs": [],
   "source": [
    "stenSaksPapir() #Kør dette for at starte dit spil"
   ]
  }
 ],
 "metadata": {
  "kernelspec": {
   "display_name": "Python 3",
   "language": "python",
   "name": "python3"
  },
  "language_info": {
   "codemirror_mode": {
    "name": "ipython",
    "version": 3
   },
   "file_extension": ".py",
   "mimetype": "text/x-python",
   "name": "python",
   "nbconvert_exporter": "python",
   "pygments_lexer": "ipython3",
   "version": "3.6.1"
  }
 },
 "nbformat": 4,
 "nbformat_minor": 1
}
