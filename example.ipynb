{
 "cells": [
  {
   "cell_type": "markdown",
   "metadata": {},
   "source": [
    "# The perceptron algorithm.\n",
    "This notebook works as a short and simple illustration of the perceptron algorithm. It is a very simple linear model, on it's own it does not have much practical use, but it can be used to build to more complex models such as neural networks. \n",
    "\n",
    "## The problem \n",
    "We are going to use the perceptron to solve a binary-classification problem, in which we are given a data point belonging to one of two groups. Our goal is to identify which one based on a training set. \n",
    "\n",
    "## The data"
   ]
  },
  {
   "cell_type": "code",
   "execution_count": null,
   "metadata": {
    "ExecuteTime": {
     "end_time": "2019-10-24T18:31:33.550597Z",
     "start_time": "2019-10-24T18:31:33.545410Z"
    },
    "scrolled": true
   },
   "outputs": [],
   "source": [
    "# Imports \n",
    "import numpy as np\n",
    "import pandas as pd\n",
    "import matplotlib.pyplot as plt\n",
    "%matplotlib inline"
   ]
  },
  {
   "cell_type": "markdown",
   "metadata": {},
   "source": [
    "## The data\n",
    "We need data that is split into two groups based on some rule/fact. \n",
    "For this task we are going to be generating our own data in 2 dimensions. \n",
    "The perceptron model is a linear model with no margins, this means that the data must be linear separable. To make it easy for us to verify that we our algorithm works we are simply going to use a linear rule.  \n",
    "\n",
    "We are then going to make our own rule that says that: \n",
    "$$\n",
    "y(x_1, x_2) =\n",
    "    \\begin{cases}\n",
    "        1 \\text{ if } a x_1 +b \\leq x_2,\\\\\n",
    "        -1 \\text{ else}\n",
    "    \\end{cases}\n",
    "$$\n",
    "We are going to use numpy to generate $100$ data points of the form $x_1, x_2$ between $-50$ and $50$. To generate the labels we simply add the two dimensions and check when they are below 10. \n",
    "\n",
    "After the data has been generated we plot it"
   ]
  },
  {
   "cell_type": "code",
   "execution_count": null,
   "metadata": {
    "ExecuteTime": {
     "end_time": "2019-10-24T18:31:34.093617Z",
     "start_time": "2019-10-24T18:31:34.084495Z"
    },
    "scrolled": true
   },
   "outputs": [],
   "source": [
    "def generateData(nr_samples=100, max_val = 50, a=1, b=0):\n",
    "    x = pd.DataFrame(\n",
    "        np.random.rand(nr_samples, 2) * max_val * 2 - max_val, \n",
    "        columns=['x_1', 'x_2']\n",
    "    )\n",
    "    x['b'] = 1\n",
    "    y = (x['x_1'] * a + b < x['x_2']).astype(int)\n",
    "    return x, y.replace(0, -1)\n",
    "    \n",
    "    \n",
    "x_train, y_train = generateData(nr_samples=100, max_val=50, a=1000, b=0)"
   ]
  },
  {
   "cell_type": "code",
   "execution_count": null,
   "metadata": {
    "ExecuteTime": {
     "end_time": "2019-10-24T18:31:34.390658Z",
     "start_time": "2019-10-24T18:31:34.381417Z"
    }
   },
   "outputs": [],
   "source": [
    "def generateData(nr_samples=100, max_val = 50, a=1, b=0):\n",
    "    x = pd.DataFrame(\n",
    "        np.random.rand(nr_samples, 2) * max_val * 2 - max_val, \n",
    "        columns=['x_1', 'x_2']\n",
    "    )\n",
    "    x['b'] = 1\n",
    "    y = (x['x_1']  < 0).astype(int)\n",
    "    return x, y.replace(0, -1)\n",
    "    \n",
    "    \n",
    "x_train, y_train = generateData(nr_samples=100, max_val=50, a=1000, b=0)"
   ]
  },
  {
   "cell_type": "code",
   "execution_count": null,
   "metadata": {
    "ExecuteTime": {
     "end_time": "2019-10-24T18:31:34.984180Z",
     "start_time": "2019-10-24T18:31:34.715094Z"
    },
    "scrolled": true
   },
   "outputs": [],
   "source": [
    "plt.scatter(\n",
    "    x=x_train['x_1'], \n",
    "    y=x_train['x_2'], \n",
    "    c=[('red' if label == 1 else 'blue') for label in y_train],\n",
    ")"
   ]
  },
  {
   "cell_type": "markdown",
   "metadata": {},
   "source": [
    "## The algorithm \n",
    "As we see above there is some line between the two classes. This line could can be specified in the form \n",
    "$$\n",
    "    \\begin{array}\n",
    "        ww_1 \\\\\n",
    "        w_2 \\\\\n",
    "        b\\\\\n",
    "    \\end{array}\n",
    "$$. \n",
    "\n"
   ]
  },
  {
   "cell_type": "code",
   "execution_count": null,
   "metadata": {
    "ExecuteTime": {
     "end_time": "2019-10-24T18:34:25.848353Z",
     "start_time": "2019-10-24T18:34:25.839141Z"
    },
    "scrolled": true
   },
   "outputs": [],
   "source": [
    "def plotLine(w, limit=50):\n",
    "    plt.clf()\n",
    "    tmp = pd.Series(w, index=['w_1', 'w_2', 'b'])\n",
    "    slope = -(tmp.b / tmp.w_2) / (tmp.b / tmp.w_1)\n",
    "    getY = lambda x: (-(tmp.w_1 * x) - tmp.b) / tmp.w_2\n",
    "    xs = [-50, 50]\n",
    "    ys = [getY(x) for x in [-50, 50]]\n",
    "    print(f\"boudaries were: {list(zip(xs,ys))}\")\n",
    "    plt.scatter(\n",
    "        x=x_train['x_1'], \n",
    "        y=x_train['x_2'], \n",
    "        c=[('red' if label == 1 else 'blue') for label in y_train],\n",
    "    )\n",
    "    plt.ylim(x_train['x_2'].max())\n",
    "    plt.plot(xs, ys, color='orange')"
   ]
  },
  {
   "cell_type": "code",
   "execution_count": null,
   "metadata": {
    "ExecuteTime": {
     "end_time": "2019-10-24T18:34:25.855121Z",
     "start_time": "2019-10-24T18:34:25.851151Z"
    },
    "scrolled": true
   },
   "outputs": [],
   "source": [
    "def classify(x,w):\n",
    "    return np.sign(np.dot(x,w))\n",
    "\n",
    "\n",
    "def update(w, x, y): \n",
    "    return (w + (x *  y)).values"
   ]
  },
  {
   "cell_type": "code",
   "execution_count": null,
   "metadata": {
    "ExecuteTime": {
     "end_time": "2019-10-24T18:34:26.117911Z",
     "start_time": "2019-10-24T18:34:26.112390Z"
    }
   },
   "outputs": [],
   "source": [
    "w = np.random.rand(3) * 100 - 50\n",
    "w[2] = 3.1337\n",
    "w"
   ]
  },
  {
   "cell_type": "code",
   "execution_count": null,
   "metadata": {
    "ExecuteTime": {
     "end_time": "2019-10-24T18:31:39.030488Z",
     "start_time": "2019-10-24T18:31:38.767442Z"
    }
   },
   "outputs": [],
   "source": [
    "preds = pd.DataFrame(np.sign(np.dot(x_train, w)))[0]\n",
    "wrong = preds[preds != y_train]\n",
    "for error in list(wrong.index):\n",
    "    w = update(w, x_train.loc[error], y_train.loc[error])\n",
    "print(f'Got {len(preds) - len(wrong)} right! ')\n",
    "print(f'error was: {error}')\n",
    "print(f'W was: {w}')\n",
    "plotLine(w)"
   ]
  },
  {
   "cell_type": "code",
   "execution_count": null,
   "metadata": {
    "ExecuteTime": {
     "end_time": "2019-10-24T18:31:45.995320Z",
     "start_time": "2019-10-24T18:31:45.672301Z"
    }
   },
   "outputs": [],
   "source": [
    "i = 1\n",
    "while (len(wrong) > 0):\n",
    "    i += 1\n",
    "    preds = pd.DataFrame(np.sign(np.dot(x_train, w)))[0]\n",
    "    wrong = preds[preds != y_train]\n",
    "    for error in list(wrong.index):\n",
    "        w = update(w, x_train.loc[error], y_train.loc[error])\n",
    "print(f'Got {len(preds) - len(wrong)} right! ')\n",
    "print(f'In {i} iterations ')\n",
    "plotLine(w)"
   ]
  },
  {
   "cell_type": "code",
   "execution_count": null,
   "metadata": {
    "ExecuteTime": {
     "end_time": "2019-10-24T18:31:00.363246Z",
     "start_time": "2019-10-24T18:31:00.357238Z"
    }
   },
   "outputs": [],
   "source": [
    "w"
   ]
  },
  {
   "cell_type": "code",
   "execution_count": null,
   "metadata": {
    "ExecuteTime": {
     "end_time": "2019-10-24T18:31:50.180309Z",
     "start_time": "2019-10-24T18:31:50.172394Z"
    }
   },
   "outputs": [],
   "source": [
    "preds = pd.DataFrame(np.sign(np.dot(x_train, w)))[0]\n",
    "wrong = preds[preds != y_train]\n",
    "for error in list(wrong.index):\n",
    "    w = update(w, x_train.loc[error], y_train.loc[error])\n",
    "print(f'Got {len(preds) - len(wrong)} right! ')\n",
    "print(f'error was: {error}')\n",
    "print(f'W was: {w}')"
   ]
  },
  {
   "cell_type": "code",
   "execution_count": null,
   "metadata": {
    "ExecuteTime": {
     "end_time": "2019-10-24T18:32:27.209062Z",
     "start_time": "2019-10-24T18:32:26.950373Z"
    }
   },
   "outputs": [],
   "source": [
    "print(f'Got {len(preds) - len(wrong)} right! ')\n",
    "plotLine([x/1000 for x in w])"
   ]
  },
  {
   "cell_type": "code",
   "execution_count": null,
   "metadata": {
    "ExecuteTime": {
     "end_time": "2019-10-24T18:31:09.340581Z",
     "start_time": "2019-10-24T18:31:09.334482Z"
    }
   },
   "outputs": [],
   "source": [
    "preds = pd.DataFrame(np.sign(np.dot(x_train, w)))[0]\n",
    "wrong = preds[preds != y_train]"
   ]
  },
  {
   "cell_type": "code",
   "execution_count": null,
   "metadata": {
    "ExecuteTime": {
     "end_time": "2019-10-24T18:31:10.071533Z",
     "start_time": "2019-10-24T18:31:10.065659Z"
    }
   },
   "outputs": [],
   "source": [
    "wrong"
   ]
  },
  {
   "cell_type": "code",
   "execution_count": null,
   "metadata": {},
   "outputs": [],
   "source": []
  }
 ],
 "metadata": {
  "kernelspec": {
   "display_name": "Python 3",
   "language": "python",
   "name": "python3"
  },
  "language_info": {
   "codemirror_mode": {
    "name": "ipython",
    "version": 3
   },
   "file_extension": ".py",
   "mimetype": "text/x-python",
   "name": "python",
   "nbconvert_exporter": "python",
   "pygments_lexer": "ipython3",
   "version": "3.7.4"
  }
 },
 "nbformat": 4,
 "nbformat_minor": 2
}
